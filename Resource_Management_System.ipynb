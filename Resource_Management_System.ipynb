import random
import time
from collections import deque
import threading
import matplotlib.pyplot as plt

class ResourceManager:
    def __init__(self, total_cpu, total_memory):
        self.total_cpu = total_cpu
        self.total_memory = total_memory
        self.available_cpu = total_cpu
        self.available_memory = total_memory
        self.processes = []
        self.cpu_utilization = []
        self.resource_allocation = {}  # Track allocations for deadlock detection

    def allocate(self, process):
        if self.available_cpu >= process.cpu_needed and self.available_memory >= process.memory_needed:
            self.available_cpu -= process.cpu_needed
            self.available_memory -= process.memory_needed
            self.processes.append(process)
            self.resource_allocation[process.name] = (process.cpu_needed, process.memory_needed)
            print(f"Allocated {process.cpu_needed}% CPU and {process.memory_needed}MB memory to {process.name}")
            return True
        return False

    def release(self, process):
        self.available_cpu += process.cpu_needed
        self.available_memory += process.memory_needed
        if process in self.processes:
            self.processes.remove(process)
        if process.name in self.resource_allocation:
            del self.resource_allocation[process.name]
        print(f"Released {process.cpu_needed}% CPU and {process.memory_needed}MB memory from {process.name}")

    def get_status(self):
        used_cpu = self.total_cpu - self.available_cpu
        used_memory = self.total_memory - self.available_memory
        print(f"Resource Status: {used_cpu}% CPU used, {used_memory}MB memory used")
        self.cpu_utilization.append(used_cpu)
        return used_cpu, used_memory

    def detect_deadlock(self):
        total_requested_cpu = sum(req[0] for req in self.resource_allocation.values())
        total_requested_memory = sum(req[1] for req in self.resource_allocation.values())

        if total_requested_cpu > self.total_cpu or total_requested_memory > self.total_memory:
            print("Deadlock detected! Resources are insufficient to satisfy all processes.")
            return True
        return False

    def recover_from_deadlock(self):
        if self.processes:
            victim = max(self.processes, key=lambda p: (p.cpu_needed, p.memory_needed))
            print(f"Terminating {victim.name} to resolve deadlock.")
            self.release(victim)

class Process:
    def __init__(self, name, cpu_needed, memory_needed):
        self.name = name
        self.cpu_needed = cpu_needed
        self.memory_needed = memory_needed
        self.remaining_time = random.randint(5, 15)  # Simulated total run time
        self.time_slice = 3  # Maximum time slice for Round Robin

class Scheduler:
    def __init__(self, resource_manager):
        self.resource_manager = resource_manager
        self.ready_queue = deque()
        self.start_time = time.time()

    def add_process(self, process):
        self.ready_queue.append(process)

    def schedule_fcfs(self):
        while time.time() - self.start_time < 300:  # Run for 5 minutes
            if self.ready_queue:
                process = self.ready_queue.popleft()
                if self.resource_manager.allocate(process):
                    print(f"{process.name} is running for {process.remaining_time} seconds (FCFS).")
                    time.sleep(process.remaining_time)
                    self.resource_manager.release(process)
                    print(f"{process.name} has completed execution.")
                else:
                    print(f"Insufficient resources for {process.name}, adding back to the queue.")
                    self.ready_queue.append(process)
            time.sleep(1)

    def schedule_srjf(self):
        while time.time() - self.start_time < 300:  # Run for 5 minutes
            if self.ready_queue:
                self.ready_queue = deque(sorted(self.ready_queue, key=lambda p: p.remaining_time))
                process = self.ready_queue.popleft()
                if self.resource_manager.allocate(process):
                    run_time = min(process.remaining_time, process.time_slice)
                    print(f"{process.name} is running for {run_time} seconds (SRJF).")
                    time.sleep(run_time)
                    process.remaining_time -= run_time
                    self.resource_manager.release(process)
                    if process.remaining_time > 0:
                        print(f"{process.name} is preempted with {process.remaining_time} seconds remaining.")
                        self.ready_queue.append(process)
                    else:
                        print(f"{process.name} has completed execution.")
                else:
                    print(f"Insufficient resources for {process.name}, adding back to the queue.")
                    self.ready_queue.append(process)
            time.sleep(1)

    def schedule_rr(self):
        while time.time() - self.start_time < 300:  # Run for 5 minutes
            if self.ready_queue:
                process = self.ready_queue.popleft()
                if self.resource_manager.allocate(process):
                    run_time = min(process.remaining_time, process.time_slice)
                    print(f"{process.name} is running for {run_time} seconds (Round Robin).")
                    time.sleep(run_time)
                    process.remaining_time -= run_time
                    self.resource_manager.release(process)
                    if process.remaining_time > 0:
                        print(f"{process.name} is preempted with {process.remaining_time} seconds remaining.")
                        self.ready_queue.append(process)
                    else:
                        print(f"{process.name} has completed execution.")
                else:
                    print(f"Insufficient resources for {process.name}, adding back to the queue.")
                    self.ready_queue.append(process)
            time.sleep(1)

    def monitor_resources(self):
        while time.time() - self.start_time < 300:
            self.resource_manager.get_status()
            if self.resource_manager.detect_deadlock():
                self.resource_manager.recover_from_deadlock()
            time.sleep(2)

if __name__ == "__main__":
    total_cpu = 100
    total_memory = 2048
    resource_manager_fcfs = ResourceManager(total_cpu, total_memory)
    resource_manager_srjf = ResourceManager(total_cpu, total_memory)
    resource_manager_rr = ResourceManager(total_cpu, total_memory)

    scheduler_fcfs = Scheduler(resource_manager_fcfs)
    scheduler_srjf = Scheduler(resource_manager_srjf)
    scheduler_rr = Scheduler(resource_manager_rr)

    # Shared process list
    shared_process_list = []

    def add_random_processes():
        while time.time() - scheduler_fcfs.start_time < 300:  # Run for 5 minutes
            name = f"Process-{random.randint(1, 100)}"
            cpu_needed = random.randint(10, 30)
            memory_needed = random.randint(100, 500)
            process = Process(name, cpu_needed, memory_needed)
            shared_process_list.append(process)
            print(f"Added {process.name} needing {process.cpu_needed}% CPU and {process.memory_needed}MB memory.")
            # Add a deadlock-inducing process occasionally
            if random.random() < 0.1:  # 10% chance
                deadlock_process = Process(f"Deadlock-{random.randint(101, 200)}", total_cpu + 10, total_memory + 100)
                shared_process_list.append(deadlock_process)
                print(f"Added potential deadlock-inducing process {deadlock_process.name}.")
            time.sleep(random.randint(3, 7))

    def distribute_processes():
        while time.time() - scheduler_fcfs.start_time < 300:
            if shared_process_list:
                process = shared_process_list.pop(0)
                scheduler_fcfs.add_process(Process(process.name, process.cpu_needed, process.memory_needed))
                scheduler_srjf.add_process(Process(process.name, process.cpu_needed, process.memory_needed))
                scheduler_rr.add_process(Process(process.name, process.cpu_needed, process.memory_needed))
            time.sleep(1)

    process_addition_thread = threading.Thread(target=add_random_processes)
    process_addition_thread.daemon = True
    process_addition_thread.start()

    distribute_thread = threading.Thread(target=distribute_processes)
    distribute_thread.daemon = True
    distribute_thread.start()

    monitoring_thread_fcfs = threading.Thread(target=scheduler_fcfs.monitor_resources)
    monitoring_thread_fcfs.daemon = True
    monitoring_thread_fcfs.start()

    monitoring_thread_srjf = threading.Thread(target=scheduler_srjf.monitor_resources)
    monitoring_thread_srjf.daemon = True
    monitoring_thread_srjf.start()

    monitoring_thread_rr = threading.Thread(target=scheduler_rr.monitor_resources)
    monitoring_thread_rr.daemon = True
    monitoring_thread_rr.start()

    scheduling_thread_fcfs = threading.Thread(target=scheduler_fcfs.schedule_fcfs)
    scheduling_thread_fcfs.start()

    scheduling_thread_srjf = threading.Thread(target=scheduler_srjf.schedule_srjf)
    scheduling_thread_srjf.start()

    scheduling_thread_rr = threading.Thread(target=scheduler_rr.schedule_rr)
    scheduling_thread_rr.start()

    scheduling_thread_fcfs.join()
    scheduling_thread_srjf.join()
    scheduling_thread_rr.join()

    # Plot CPU utilization
    plt.plot(resource_manager_fcfs.cpu_utilization, label="FCFS")
    plt.plot(resource_manager_srjf.cpu_utilization, label="SRJF")
    plt.plot(resource_manager_rr.cpu_utilization, label="Round Robin")
    plt.xlabel("Time (s)")
    plt.ylabel("CPU Utilization (%)")
    plt.title("CPU Utilization Comparison")
    plt.legend()
    plt.show()
